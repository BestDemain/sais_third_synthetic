{
 "cells": [
  {
   "cell_type": "markdown",
   "metadata": {},
   "source": [
    "# 蛋白质序列标签预测 - ProtVec 实现\n",
    "\n",
    "本笔记本实现了使用 ProtVec（蛋白质特定嵌入）进行蛋白质序列标签预测的功能。ProtVec 是一种专门为蛋白质序列设计的嵌入方法，它通过将蛋白质序列分解为重叠的 n-gram（通常是 3-gram），然后使用 Word2Vec 类似的方法学习这些 n-gram 的向量表示。"
   ]
  },
  {
   "cell_type": "code",
   "execution_count": 1,
   "metadata": {},
   "outputs": [],
   "source": [
    "import pickle\n",
    "import gensim\n",
    "import gensim.models\n",
    "\n",
    "import os\n",
    "import sys\n",
    "import random\n",
    "import numpy as np\n",
    "import pandas as pd\n",
    "from joblib import load, dump\n",
    "\n",
    "from sklearn.linear_model import LogisticRegression, SGDClassifier\n",
    "from sklearn.naive_bayes import GaussianNB \n",
    "from sklearn.model_selection import cross_val_predict\n",
    "from sklearn.metrics import classification_report"
   ]
  },
  {
   "cell_type": "markdown",
   "metadata": {},
   "source": [
    "## 数据加载\n",
    "\n",
    "首先，我们加载蛋白质序列数据。"
   ]
  },
  {
   "cell_type": "code",
   "execution_count": 2,
   "metadata": {},
   "outputs": [
    {
     "data": {
      "text/plain": [
       "{'id': 'disordered_protein_0',\n",
       " 'sequence': 'MKQFGLAAFDELKDGKYNDVNKTILEKQSVELRDQLMVFQERLVEFAKKHNSELQASPEFRSKFMHMCSSIGIDPLSLFDRDKHLFTVNDFYYEVCLKVIEICRQTKDMNGGVISFQELEKVHFRKLNVGLDDLEKSIDMLKSLECFEIFQIRGKKFLRSVPNELTSDQTKILEICSILGYSSISLLKANLGWEAVRSKSALDEMVANGLLWIDYQGGAEALYWDPSWITRQL',\n",
       " 'label': array([1, 1, 1, 1, 1, 1, 1, 1, 1, 1, 1, 1, 1, 1, 1, 1, 1, 1, 1, 1, 1, 1,\n",
       "        0, 0, 0, 0, 0, 0, 0, 0, 0, 0, 0, 0, 0, 0, 0, 0, 0, 0, 0, 0, 0, 0,\n",
       "        0, 0, 0, 0, 0, 0, 0, 0, 0, 0, 0, 0, 0, 0, 0, 0, 0, 0, 0, 0, 0, 0,\n",
       "        0, 0, 0, 0, 0, 0, 0, 0, 0, 0, 0, 0, 0, 0, 0, 0, 0, 0, 0, 0, 0, 0,\n",
       "        0, 0, 0, 0, 0, 0, 0, 0, 0, 0, 0, 0, 0, 0, 0, 0, 0, 0, 0, 0, 0, 0,\n",
       "        0, 0, 0, 0, 0, 0, 0, 0, 0, 0, 0, 0, 0, 0, 0, 0, 0, 0, 0, 0, 0, 0,\n",
       "        0, 0, 0, 0, 0, 0, 0, 0, 0, 0, 0, 0, 0, 0, 0, 0, 0, 0, 0, 0, 0, 0,\n",
       "        0, 0, 0, 0, 0, 0, 0, 0, 0, 0, 0, 0, 0, 0, 0, 0, 0, 0, 0, 0, 0, 0,\n",
       "        0, 0, 0, 0, 0, 0, 0, 0, 0, 0, 0, 0, 0, 0, 0, 0, 0, 0, 0, 0, 0, 0,\n",
       "        0, 0, 0, 0, 0, 0, 0, 0, 0, 0, 0, 0, 0, 0, 0, 0, 0, 0, 0, 0, 0, 0,\n",
       "        0, 0, 0, 0, 0, 0, 0, 0, 0, 0, 0, 0, 0], dtype=int64)}"
      ]
     },
     "execution_count": 2,
     "metadata": {},
     "output_type": "execute_result"
    }
   ],
   "source": [
    "# 加载数据\n",
    "datas = pickle.load(open(\"../Data/WSAA_data_public.pkl\", \"rb\"))\n",
    "\n",
    "# 查看第一个样本\n",
    "datas[0]"
   ]
  },
  {
   "cell_type": "markdown",
   "metadata": {},
   "source": [
    "## ProtVec 实现\n",
    "\n",
    "ProtVec 是一种专门为蛋白质序列设计的嵌入方法，它通过将蛋白质序列分解为重叠的 n-gram（通常是 3-gram），然后使用 Word2Vec 类似的方法学习这些 n-gram 的向量表示。\n",
    "\n",
    "下面我们实现 ProtVec 的训练过程："
   ]
  },
  {
   "cell_type": "code",
   "execution_count": 3,
   "metadata": {},
   "outputs": [
    {
     "name": "stdout",
     "output_type": "stream",
     "text": [
      "ProtVec向量维度: 100\n",
      "n-gram: MKQ, 向量: [-0.2966941   0.36993104 -0.43829548  0.26261833 -0.12605065]...\n",
      "n-gram: KQF, 向量: [-0.18011813  0.3782929  -0.32417122  0.27704358 -0.16208789]...\n",
      "n-gram: QFG, 向量: [-0.5383602  -0.1368353   0.19545464  0.08196804 -0.5159643 ]...\n"
     ]
    }
   ],
   "source": [
    "def generate_ngrams(sequence, n=3):\n",
    "    \"\"\"生成蛋白质序列的n-gram\"\"\"\n",
    "    return [sequence[i:i+n] for i in range(len(sequence)-n+1)]\n",
    "\n",
    "# 为每个蛋白质序列生成n-gram\n",
    "ngram_sentences = []\n",
    "for data in datas:\n",
    "    sequence = data[\"sequence\"]\n",
    "    ngrams = generate_ngrams(sequence, n=3)  # 使用3-gram\n",
    "    ngram_sentences.append(ngrams)\n",
    "\n",
    "# 设置随机种子以确保可重复性\n",
    "random_seed = random.randint(0, 10000)\n",
    "\n",
    "# 训练ProtVec模型\n",
    "model_protvec = gensim.models.Word2Vec(\n",
    "    sentences=ngram_sentences,\n",
    "    vector_size=random.choice([10, 20, 40, 50, 100]),  # 随机选择向量维度\n",
    "    window=5,  # 上下文窗口大小\n",
    "    min_count=1,  # 最小词频\n",
    "    workers=4,  # 并行训练的线程数\n",
    "    seed=random_seed\n",
    ")\n",
    "\n",
    "# 查看向量维度\n",
    "print(f\"ProtVec向量维度: {model_protvec.vector_size}\")\n",
    "\n",
    "# 查看一些n-gram的向量表示\n",
    "for ngram in ngram_sentences[0][:3]:\n",
    "    print(f\"n-gram: {ngram}, 向量: {model_protvec.wv[ngram][:5]}...\")"
   ]
  },
  {
   "cell_type": "markdown",
   "metadata": {},
   "source": [
    "## 特征提取\n",
    "\n",
    "现在，我们使用训练好的 ProtVec 模型为每个氨基酸提取特征。我们将考虑每个氨基酸周围的上下文（前后各2个氨基酸），并使用这些氨基酸所在的n-gram的平均向量作为特征。"
   ]
  },
  {
   "cell_type": "code",
   "execution_count": 4,
   "metadata": {},
   "outputs": [
    {
     "name": "stdout",
     "output_type": "stream",
     "text": [
      "特征形状: (1266695, 100)\n",
      "标签形状: (1266695,)\n"
     ]
    }
   ],
   "source": [
    "def extract_features_for_position(sequence, position, model, n=3):\n",
    "    \"\"\"为序列中的特定位置提取特征\"\"\"\n",
    "    # 获取包含该位置的所有n-gram\n",
    "    relevant_ngrams = []\n",
    "    for i in range(max(0, position-n+1), min(len(sequence)-n+1, position+1)):\n",
    "        ngram = sequence[i:i+n]\n",
    "        if ngram in model.wv:\n",
    "            relevant_ngrams.append(ngram)\n",
    "    \n",
    "    # 如果没有相关n-gram，使用随机向量\n",
    "    if not relevant_ngrams:\n",
    "        return np.random.randn(model.vector_size)\n",
    "    \n",
    "    # 计算所有相关n-gram向量的平均值\n",
    "    return np.mean([model.wv[ngram] for ngram in relevant_ngrams], axis=0)\n",
    "\n",
    "# 提取特征\n",
    "data_x = []\n",
    "data_y = []\n",
    "\n",
    "for data in datas:\n",
    "    sequence = data[\"sequence\"]\n",
    "    labels = data[\"label\"]\n",
    "    \n",
    "    for idx, label in enumerate(labels):\n",
    "        # 提取该位置的特征\n",
    "        features = extract_features_for_position(sequence, idx, model_protvec)\n",
    "        data_x.append(features)\n",
    "        data_y.append(label)\n",
    "\n",
    "# 转换为numpy数组\n",
    "data_x = np.array(data_x)\n",
    "data_y = np.array(data_y)\n",
    "\n",
    "# 查看数据形状\n",
    "print(f\"特征形状: {data_x.shape}\")\n",
    "print(f\"标签形状: {data_y.shape}\")"
   ]
  },
  {
   "cell_type": "markdown",
   "metadata": {},
   "source": [
    "## 模型训练与评估\n",
    "\n",
    "使用提取的特征训练分类模型，并评估其性能。"
   ]
  },
  {
   "cell_type": "code",
   "execution_count": 5,
   "metadata": {},
   "outputs": [
    {
     "name": "stdout",
     "output_type": "stream",
     "text": [
      "              precision    recall  f1-score   support\n",
      "\n",
      "           0       0.86      0.71      0.78   1043854\n",
      "           1       0.25      0.45      0.32    222841\n",
      "\n",
      "    accuracy                           0.66   1266695\n",
      "   macro avg       0.55      0.58      0.55   1266695\n",
      "weighted avg       0.75      0.66      0.70   1266695\n",
      "\n"
     ]
    }
   ],
   "source": [
    "# 使用高斯朴素贝叶斯分类器\n",
    "model = GaussianNB()\n",
    "\n",
    "# 使用交叉验证进行预测\n",
    "pred = cross_val_predict(\n",
    "    model, data_x, data_y\n",
    ")\n",
    "\n",
    "# 打印分类报告\n",
    "print(classification_report(data_y, pred))"
   ]
  },
  {
   "cell_type": "markdown",
   "metadata": {},
   "source": [
    "## 尝试其他分类器\n",
    "\n",
    "我们可以尝试其他分类器，看看是否能获得更好的性能。"
   ]
  },
  {
   "cell_type": "code",
   "execution_count": 6,
   "metadata": {},
   "outputs": [
    {
     "name": "stdout",
     "output_type": "stream",
     "text": [
      "逻辑回归分类器性能：\n",
      "              precision    recall  f1-score   support\n",
      "\n",
      "           0       0.82      1.00      0.90   1043854\n",
      "           1       0.48      0.01      0.01    222841\n",
      "\n",
      "    accuracy                           0.82   1266695\n",
      "   macro avg       0.65      0.50      0.46   1266695\n",
      "weighted avg       0.76      0.82      0.75   1266695\n",
      "\n"
     ]
    }
   ],
   "source": [
    "# 使用逻辑回归分类器\n",
    "model_lr = LogisticRegression(max_iter=1000, random_state=random_seed)\n",
    "\n",
    "# 使用交叉验证进行预测\n",
    "pred_lr = cross_val_predict(\n",
    "    model_lr, data_x, data_y\n",
    ")\n",
    "\n",
    "# 打印分类报告\n",
    "print(\"逻辑回归分类器性能：\")\n",
    "print(classification_report(data_y, pred_lr))"
   ]
  },
  {
   "cell_type": "markdown",
   "metadata": {},
   "source": [
    "## 保存模型\n",
    "\n",
    "保存训练好的ProtVec模型和分类器，以便后续使用。"
   ]
  },
  {
   "cell_type": "code",
   "execution_count": 9,
   "metadata": {},
   "outputs": [
    {
     "name": "stdout",
     "output_type": "stream",
     "text": [
      "模型已保存！\n"
     ]
    }
   ],
   "source": [
    "# 训练完整数据集上的模型\n",
    "final_model = GaussianNB()\n",
    "final_model.fit(data_x, data_y)\n",
    "\n",
    "# 保存ProtVec模型\n",
    "model_protvec.save(\"protvec_model.w2v\")\n",
    "\n",
    "# 保存分类器\n",
    "dump(final_model, \"classifier_model.joblib\")\n",
    "\n",
    "print(\"模型已保存！\")"
   ]
  },
  {
   "cell_type": "markdown",
   "metadata": {},
   "source": [
    "## 结论\n",
    "\n",
    "在这个笔记本中，我们实现了使用ProtVec（蛋白质特定嵌入）进行蛋白质序列标签预测的功能。ProtVec通过将蛋白质序列分解为重叠的n-gram，然后学习这些n-gram的向量表示，为蛋白质序列分析提供了有效的特征表示方法。\n",
    "\n",
    "与基线模型中的Word2Vec相比，ProtVec更适合蛋白质序列分析，因为它考虑了蛋白质序列的特定结构和模式。通过使用n-gram捕获局部氨基酸模式，ProtVec能够更好地表示蛋白质序列中的功能和结构信息。"
   ]
  }
 ],
 "metadata": {
  "kernelspec": {
   "display_name": "Sais",
   "language": "python",
   "name": "python3"
  },
  "language_info": {
   "codemirror_mode": {
    "name": "ipython",
    "version": 3
   },
   "file_extension": ".py",
   "mimetype": "text/x-python",
   "name": "python",
   "nbconvert_exporter": "python",
   "pygments_lexer": "ipython3",
   "version": "3.12.7"
  }
 },
 "nbformat": 4,
 "nbformat_minor": 2
}
